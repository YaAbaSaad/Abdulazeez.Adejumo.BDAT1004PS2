{
 "cells": [
  {
   "cell_type": "markdown",
   "id": "cd23ba8b",
   "metadata": {},
   "source": [
    "# Question 1\n",
    "For the provided Python module, the following steps occur:\n",
    "\n",
    "1. a = 0: The global variable a is initialized with the value 0.\n",
    "2. b(): The function b() is called. Inside b(), the global keyword is used to indicate that we are referring to the global variable a. The value of a is passed to function c().\n",
    "3. c(a): The function c() takes an argument and returns the argument incremented by 2. On the first call, it receives 0 and returns 2. This updates the global variable a to 2.\n",
    "4. b(): The function b() is called again. The current value of a, which is 2, is passed to function c().\n",
    "5. c(a): On this call, it receives 2 and returns 4. The global variable a is now updated to 4.\n",
    "6. b(): The function b() is called once more. The current value of a, which is 4, is passed to function c().\n",
    "7. c(a): On this call, it receives 4 and returns 6. The global variable a is now updated to 6.\n",
    "\n",
    "After executing the last expression a, the displayed value is 6.\n"
   ]
  },
  {
   "cell_type": "code",
   "execution_count": 1,
   "id": "1f704537",
   "metadata": {},
   "outputs": [
    {
     "data": {
      "text/plain": [
       "6"
      ]
     },
     "execution_count": 1,
     "metadata": {},
     "output_type": "execute_result"
    }
   ],
   "source": [
    "\n",
    "a = 0\n",
    "\n",
    "def b():\n",
    "    global a\n",
    "    a = c(a)\n",
    "\n",
    "def c(a):\n",
    "    return a + 2\n",
    "\n",
    "# Executing the functions as mentioned\n",
    "b()\n",
    "b()\n",
    "b()\n",
    "\n",
    "# Return the value of a\n",
    "a\n",
    "    "
   ]
  },
  {
   "cell_type": "markdown",
   "id": "4ff90c04",
   "metadata": {},
   "source": [
    "# Question 2"
   ]
  },
  {
   "cell_type": "code",
   "execution_count": 14,
   "id": "42d540a1",
   "metadata": {},
   "outputs": [
    {
     "name": "stdout",
     "output_type": "stream",
     "text": [
      "File E:\\Downloads\\Filelength.txt not found.\n"
     ]
    }
   ],
   "source": [
    "def file_length(file_name=r'E:\\Downloads\\Filelength.txt'):\n",
    "    try:\n",
    "        file = open(file_name, 'r')\n",
    "        contents = file.read()\n",
    "        file.close()\n",
    "        print(len(contents))\n",
    "    except FileNotFoundError:\n",
    "        print(f\"File {file_name} not found.\")\n",
    "        \n",
    "file_length()\n"
   ]
  },
  {
   "cell_type": "markdown",
   "id": "34168d9b",
   "metadata": {},
   "source": [
    "# Question 3"
   ]
  },
  {
   "cell_type": "code",
   "execution_count": 19,
   "id": "0a28540c",
   "metadata": {},
   "outputs": [],
   "source": [
    "class Marsupial:\n",
    "    def __init__(self):\n",
    "        self.pouch = []\n",
    "    \n",
    "    def put_in_pouch(self, item):\n",
    "        self.pouch.append(item)\n",
    "    \n",
    "    def pouch_contents(self):\n",
    "        return self.pouch\n"
   ]
  },
  {
   "cell_type": "code",
   "execution_count": 20,
   "id": "c82c930a",
   "metadata": {},
   "outputs": [
    {
     "name": "stdout",
     "output_type": "stream",
     "text": [
      "['doll', 'firetruck', 'kitten']\n"
     ]
    }
   ],
   "source": [
    "m = Marsupial()\n",
    "m.put_in_pouch('doll')\n",
    "m.put_in_pouch('firetruck')\n",
    "m.put_in_pouch('kitten')\n",
    "print(m.pouch_contents())\n"
   ]
  },
  {
   "cell_type": "code",
   "execution_count": 21,
   "id": "1d55d189",
   "metadata": {},
   "outputs": [],
   "source": [
    "class Kangaroo(Marsupial):\n",
    "    def __init__(self, x, y):\n",
    "        super().__init__()  # Call the parent class constructor\n",
    "        self.x = x\n",
    "        self.y = y\n",
    "        \n",
    "    def jump(self, dx, dy):\n",
    "        self.x += dx\n",
    "        self.y += dy\n",
    "        \n",
    "    def __str__(self):\n",
    "        return f\"I am a Kangaroo located at coordinates ({self.x},{self.y})\"\n"
   ]
  },
  {
   "cell_type": "code",
   "execution_count": 22,
   "id": "4d2916dc",
   "metadata": {},
   "outputs": [
    {
     "name": "stdout",
     "output_type": "stream",
     "text": [
      "I am a Kangaroo located at coordinates (0,0)\n",
      "['doll', 'firetruck', 'kitten']\n",
      "I am a Kangaroo located at coordinates (3,0)\n"
     ]
    }
   ],
   "source": [
    "k = Kangaroo(0, 0)\n",
    "print(k)  # Should display \"I am a Kangaroo located at coordinates (0,0)\"\n",
    "k.put_in_pouch('doll')\n",
    "k.put_in_pouch('firetruck')\n",
    "k.put_in_pouch('kitten')\n",
    "print(k.pouch_contents())  # Should display ['doll', 'firetruck', 'kitten']\n",
    "k.jump(1, 0)\n",
    "k.jump(1, 0)\n",
    "k.jump(1, 0)\n",
    "print(k)  # Should display \"I am a Kangaroo located at coordinates (3,0)\"\n"
   ]
  },
  {
   "cell_type": "markdown",
   "id": "096cf0bf",
   "metadata": {},
   "source": [
    "# Question 4"
   ]
  },
  {
   "cell_type": "code",
   "execution_count": 26,
   "id": "1b876d37",
   "metadata": {},
   "outputs": [
    {
     "name": "stdout",
     "output_type": "stream",
     "text": [
      "1\n"
     ]
    }
   ],
   "source": [
    "def collatz(x):\n",
    "    # Print the current number\n",
    "    print(x)\n",
    "    \n",
    "    # Base case: if x is 1, stop\n",
    "    if x == 1:\n",
    "        return\n",
    "    # If x is even\n",
    "    elif x % 2 == 0:\n",
    "        collatz(x // 2)\n",
    "    # If x is odd\n",
    "    else:\n",
    "        collatz(3 * x + 1)\n",
    "        \n",
    "collatz(1)"
   ]
  },
  {
   "cell_type": "code",
   "execution_count": 27,
   "id": "3bfdadfe",
   "metadata": {},
   "outputs": [
    {
     "name": "stdout",
     "output_type": "stream",
     "text": [
      "10\n",
      "5\n",
      "16\n",
      "8\n",
      "4\n",
      "2\n",
      "1\n"
     ]
    }
   ],
   "source": [
    "collatz(10)"
   ]
  },
  {
   "cell_type": "markdown",
   "id": "a71e8040",
   "metadata": {},
   "source": [
    "# Question 5"
   ]
  },
  {
   "cell_type": "code",
   "execution_count": 46,
   "id": "07969fd4",
   "metadata": {},
   "outputs": [],
   "source": [
    "def binary(n):\n",
    "    # Base case: if n is 0 or 1, print it\n",
    "    if n == 0 or n == 1:\n",
    "        print(n, end='')\n",
    "        return\n",
    "    \n",
    "    # Recursive call for the quotient of n divided by 2\n",
    "    binary(n // 2)\n",
    "    \n",
    "    # Print the remainder\n",
    "    print(n % 2, end='')"
   ]
  },
  {
   "cell_type": "code",
   "execution_count": 47,
   "id": "e13e1b2a",
   "metadata": {},
   "outputs": [
    {
     "name": "stdout",
     "output_type": "stream",
     "text": [
      "0"
     ]
    }
   ],
   "source": [
    "binary(0)"
   ]
  },
  {
   "cell_type": "code",
   "execution_count": 48,
   "id": "8877effc",
   "metadata": {},
   "outputs": [
    {
     "name": "stdout",
     "output_type": "stream",
     "text": [
      "1"
     ]
    }
   ],
   "source": [
    "binary(1)"
   ]
  },
  {
   "cell_type": "code",
   "execution_count": 49,
   "id": "14853d1a",
   "metadata": {},
   "outputs": [
    {
     "name": "stdout",
     "output_type": "stream",
     "text": [
      "11"
     ]
    }
   ],
   "source": [
    "binary(3)"
   ]
  },
  {
   "cell_type": "code",
   "execution_count": 50,
   "id": "21c43b2a",
   "metadata": {},
   "outputs": [
    {
     "name": "stdout",
     "output_type": "stream",
     "text": [
      "1001"
     ]
    }
   ],
   "source": [
    "binary(9)"
   ]
  },
  {
   "cell_type": "markdown",
   "id": "e32e8bfc",
   "metadata": {},
   "source": [
    "# Question 6"
   ]
  },
  {
   "cell_type": "code",
   "execution_count": 60,
   "id": "b32bb005",
   "metadata": {},
   "outputs": [],
   "source": [
    "# Import the necessary class from the html.parser module\n",
    "from html.parser import HTMLParser"
   ]
  },
  {
   "cell_type": "code",
   "execution_count": 61,
   "id": "ab105cf9",
   "metadata": {},
   "outputs": [],
   "source": [
    "\n",
    "class HeadingParser(HTMLParser):\n",
    "    \n",
    "    # Initialize the parser with default attributes\n",
    "    def __init__(self):\n",
    "        super().__init__()\n",
    "        self.in_heading = False\n",
    "        self.indentation = 0\n",
    "        \n",
    "     # This method is called when the parser encounters a starting tag\n",
    "    def handle_starttag(self, tag, attrs):\n",
    "        if tag in ['h1', 'h2', 'h3', 'h4', 'h5', 'h6']:\n",
    "            self.in_heading = True\n",
    "            self.indentation = int(tag[1]) - 1\n",
    "\n",
    "    # This method is called when the parser encounters an ending tag\n",
    "    def handle_endtag(self, tag):\n",
    "        if tag in ['h1', 'h2', 'h3', 'h4', 'h5', 'h6']:\n",
    "            self.in_heading = False\n",
    "    # This method handles the actual content/data between tags\n",
    "    def handle_data(self, data):\n",
    "        if self.in_heading:\n",
    "            print(' ' * self.indentation + data)"
   ]
  },
  {
   "cell_type": "code",
   "execution_count": 62,
   "id": "f587e3e0",
   "metadata": {},
   "outputs": [
    {
     "name": "stdout",
     "output_type": "stream",
     "text": [
      "W3C Mission\n",
      " Principles\n"
     ]
    }
   ],
   "source": [
    "# Open and read the HTML file\n",
    "with open('w3c.html', 'r') as infile:\n",
    "    content = infile.read()\n",
    "\n",
    "# Initialize the parser and feed it the HTML content\n",
    "hp = HeadingParser()\n",
    "hp.feed(content)"
   ]
  },
  {
   "cell_type": "markdown",
   "id": "349cce76",
   "metadata": {},
   "source": [
    "# Question 7"
   ]
  },
  {
   "cell_type": "code",
   "execution_count": 63,
   "id": "de96d267",
   "metadata": {},
   "outputs": [
    {
     "name": "stdout",
     "output_type": "stream",
     "text": [
      "Requirement already satisfied: requests in c:\\users\\abusaad\\anaconda3\\lib\\site-packages (2.31.0)\n",
      "Requirement already satisfied: beautifulsoup4 in c:\\users\\abusaad\\anaconda3\\lib\\site-packages (4.12.2)\n",
      "Requirement already satisfied: charset-normalizer<4,>=2 in c:\\users\\abusaad\\anaconda3\\lib\\site-packages (from requests) (2.0.4)\n",
      "Requirement already satisfied: idna<4,>=2.5 in c:\\users\\abusaad\\anaconda3\\lib\\site-packages (from requests) (3.4)\n",
      "Requirement already satisfied: urllib3<3,>=1.21.1 in c:\\users\\abusaad\\anaconda3\\lib\\site-packages (from requests) (1.26.16)\n",
      "Requirement already satisfied: certifi>=2017.4.17 in c:\\users\\abusaad\\anaconda3\\lib\\site-packages (from requests) (2023.7.22)\n",
      "Requirement already satisfied: soupsieve>1.2 in c:\\users\\abusaad\\anaconda3\\lib\\site-packages (from beautifulsoup4) (2.4)\n"
     ]
    }
   ],
   "source": [
    "!pip install requests beautifulsoup4"
   ]
  },
  {
   "cell_type": "code",
   "execution_count": 64,
   "id": "5f1fd86e",
   "metadata": {},
   "outputs": [],
   "source": [
    "import requests\n",
    "from bs4 import BeautifulSoup"
   ]
  },
  {
   "cell_type": "code",
   "execution_count": 65,
   "id": "789c6444",
   "metadata": {},
   "outputs": [],
   "source": [
    "def webdir(url, depth, indent):\n",
    "    # Base case: if depth is negative, do not proceed\n",
    "    if depth < 0:\n",
    "        return\n",
    "    \n",
    "    # Print the URL with appropriate indentation\n",
    "    print(' ' * indent + url)\n",
    "    \n",
    "    # Try fetching the content of the web page\n",
    "    try:\n",
    "        response = requests.get(url)\n",
    "        response.raise_for_status()  # Raise exception for error codes\n",
    "        soup = BeautifulSoup(response.text, 'html.parser')\n",
    "\n",
    "        # Find all links in the page\n",
    "        for link in soup.find_all('a'):\n",
    "            href = link.get('href')\n",
    "            if href and href.startswith('http'):  # Check if it's a valid URL (this is a basic check)\n",
    "                webdir(href, depth-1, indent+2)  # Recursive call with decremented depth and increased indentation\n",
    "\n",
    "    except requests.RequestException:\n",
    "        # Error occurred (e.g., page not found, no internet), skip this URL\n",
    "        pass\n"
   ]
  },
  {
   "cell_type": "code",
   "execution_count": 66,
   "id": "d090b8ee",
   "metadata": {},
   "outputs": [
    {
     "name": "stdout",
     "output_type": "stream",
     "text": [
      "http://reed.cs.depaul.edu/lperkovic/csc242/test1.html\n"
     ]
    }
   ],
   "source": [
    "webdir('http://reed.cs.depaul.edu/lperkovic/csc242/test1.html', 2, 0)"
   ]
  },
  {
   "cell_type": "markdown",
   "id": "02deecc2",
   "metadata": {},
   "source": [
    "# Questions 7 Reference:\n",
    "\n",
    "1. https://www.geeksforgeeks.org/python-program-to-recursively-scrape-all-the-urls-of-the-website/\n",
    "\n",
    "2. https://stackoverflow.com/questions/69890568/how-to-understand-recursive-with-beautifulsoup-in-python\n",
    "\n",
    "3. https://www.digitalocean.com/community/tutorials/how-to-work-with-web-data-using-requests-and-beautiful-soup-with-python-3\n",
    "\n",
    "4. https://www.geeksforgeeks.org/implementing-web-scraping-python-beautiful-soup/\n"
   ]
  },
  {
   "cell_type": "markdown",
   "id": "af28225f",
   "metadata": {},
   "source": [
    "# Question 8 (SQL Queries)"
   ]
  },
  {
   "cell_type": "markdown",
   "id": "a1f64682",
   "metadata": {},
   "source": [
    "\n",
    "Assuming the table is named WeatherData, here are the SQL queries:\n",
    "\n",
    "a) All the temperature data:\n",
    "```sql\n",
    "SELECT [Temperature(C)] \n",
    "FROM WeatherData;\n",
    "```\n",
    "\n",
    "\n",
    "b) All the cities, but without repetition:\n",
    "```sql\n",
    "SELECT DISTINCT City \n",
    "FROM WeatherData;\n",
    "```\n",
    "\n",
    "c) All the records for India:\n",
    "```sql\n",
    "SELECT * \n",
    "FROM WeatherData \n",
    "WHERE Country = 'India';\n",
    "```\n",
    "\n",
    "d) All the Fall records:\n",
    "```sql\n",
    "SELECT * \n",
    "FROM WeatherData\n",
    "WHERE Season = 'Fall';\n",
    "```\n",
    "\n",
    "e) The city, country, and season for which the average rainfall is between 200 and 400 millimeters:\n",
    "```sql\n",
    "SELECT City, Country, Season \n",
    "FROM WeatherData \n",
    "WHERE [Rainfall(mm)] BETWEEN 200 AND 400;\n",
    "```\n",
    "\n",
    "f) The city and country for which the average Fall temperature is above 20 degrees, in increasing temperature order:\n",
    "```sql\n",
    "SELECT City, Country, AVG([Temperature (C)]) as AvgTemperature\n",
    "FROM WeatherData\n",
    "WHERE Season = 'Fall'\n",
    "GROUP BY City, Country\n",
    "HAVING AVG([Temperature (C)]) > 20\n",
    "ORDER BY AVG([Temperature (C)]);\n",
    "```\n",
    "\n",
    "g) The total annual rainfall for Cairo:\n",
    "```sql\n",
    "SELECT SUM[\"Rainfall(mm)\"]\n",
    "FROM WeatherData\n",
    "WHERE City = 'Cairo';\n",
    "```\n",
    "\n",
    "h) The total rainfall for each season:\n",
    "```sql\n",
    "SELECT Season, SUM[\"Rainfall(mm)\"] AS TotalRainfall \n",
    "FROM WeatherData\n",
    "GROUP BY Season;\n",
    "```"
   ]
  },
  {
   "cell_type": "markdown",
   "id": "88e22a0c",
   "metadata": {},
   "source": [
    "# Question 9"
   ]
  },
  {
   "cell_type": "code",
   "execution_count": 75,
   "id": "d2b35d54",
   "metadata": {},
   "outputs": [],
   "source": [
    "words = ['The', 'quick', 'brown', 'fox', 'jumps', 'over', 'the', 'lazy', 'dog']"
   ]
  },
  {
   "cell_type": "code",
   "execution_count": null,
   "id": "a61146eb",
   "metadata": {},
   "outputs": [],
   "source": [
    "\n",
    "words = ['The', 'quick', 'brown', 'fox', 'jumps', 'over', 'the', 'lazy', 'dog']\n",
    "\n",
    "# a) Convert each word to uppercase\n",
    "uppercase_words = [word.upper() for word in words]\n",
    "\n",
    "# b) Convert each word to lowercase\n",
    "lowercase_words = [word.lower() for word in words]\n",
    "\n",
    "# c) Get the length of each word\n",
    "word_lengths = [len(word) for word in words]\n",
    "\n",
    "# d) Create a list for every word containing its uppercase, lowercase, and length\n",
    "word_details = [[word.upper(), word.lower(), len(word)] for word in words]\n",
    "\n",
    "# e) Get words that have 4 or more characters\n",
    "long_words = [word for word in words if len(word) >= 4]\n",
    "\n",
    "uppercase_words, lowercase_words, word_lengths, word_details, long_words\n",
    "    "
   ]
  },
  {
   "cell_type": "code",
   "execution_count": 76,
   "id": "1050c595",
   "metadata": {},
   "outputs": [
    {
     "data": {
      "text/plain": [
       "['THE', 'QUICK', 'BROWN', 'FOX', 'JUMPS', 'OVER', 'THE', 'LAZY', 'DOG']"
      ]
     },
     "execution_count": 76,
     "metadata": {},
     "output_type": "execute_result"
    }
   ],
   "source": [
    "# a) Convert each word to uppercase\n",
    "uppercase_words = [word.upper() for word in words]\n",
    "uppercase_words"
   ]
  },
  {
   "cell_type": "code",
   "execution_count": 77,
   "id": "14cac335",
   "metadata": {},
   "outputs": [
    {
     "data": {
      "text/plain": [
       "['the', 'quick', 'brown', 'fox', 'jumps', 'over', 'the', 'lazy', 'dog']"
      ]
     },
     "execution_count": 77,
     "metadata": {},
     "output_type": "execute_result"
    }
   ],
   "source": [
    "# b) Convert each word to lowercase\n",
    "lowercase_words = [word.lower() for word in words]\n",
    "lowercase_words"
   ]
  },
  {
   "cell_type": "code",
   "execution_count": 78,
   "id": "2ab3bd57",
   "metadata": {},
   "outputs": [
    {
     "data": {
      "text/plain": [
       "[3, 5, 5, 3, 5, 4, 3, 4, 3]"
      ]
     },
     "execution_count": 78,
     "metadata": {},
     "output_type": "execute_result"
    }
   ],
   "source": [
    "# c) Get the length of each word\n",
    "word_lengths = [len(word) for word in words]\n",
    "word_lengths"
   ]
  },
  {
   "cell_type": "code",
   "execution_count": 81,
   "id": "97828551",
   "metadata": {},
   "outputs": [
    {
     "data": {
      "text/plain": [
       "[['THE', 'the', 3],\n",
       " ['QUICK', 'quick', 5],\n",
       " ['BROWN', 'brown', 5],\n",
       " ['FOX', 'fox', 3],\n",
       " ['JUMPS', 'jumps', 5],\n",
       " ['OVER', 'over', 4],\n",
       " ['THE', 'the', 3],\n",
       " ['LAZY', 'lazy', 4],\n",
       " ['DOG', 'dog', 3]]"
      ]
     },
     "execution_count": 81,
     "metadata": {},
     "output_type": "execute_result"
    }
   ],
   "source": [
    "# d) Create a list for every word containing its uppercase, lowercase, and length\n",
    "word_details = [[word.upper(), word.lower(), len(word)] for word in words]\n",
    "word_details"
   ]
  },
  {
   "cell_type": "code",
   "execution_count": 85,
   "id": "1cf70abf",
   "metadata": {},
   "outputs": [
    {
     "data": {
      "text/plain": [
       "['quick', 'brown', 'jumps', 'over', 'lazy']"
      ]
     },
     "execution_count": 85,
     "metadata": {},
     "output_type": "execute_result"
    }
   ],
   "source": [
    "# e) Get words that have 4 or more characters\n",
    "four_or_more_chars = [word for word in words if len(word) >= 4]\n",
    "four_or_more_chars"
   ]
  },
  {
   "cell_type": "code",
   "execution_count": null,
   "id": "d2a404df",
   "metadata": {},
   "outputs": [],
   "source": []
  }
 ],
 "metadata": {
  "kernelspec": {
   "display_name": "Python 3 (ipykernel)",
   "language": "python",
   "name": "python3"
  },
  "language_info": {
   "codemirror_mode": {
    "name": "ipython",
    "version": 3
   },
   "file_extension": ".py",
   "mimetype": "text/x-python",
   "name": "python",
   "nbconvert_exporter": "python",
   "pygments_lexer": "ipython3",
   "version": "3.11.4"
  }
 },
 "nbformat": 4,
 "nbformat_minor": 5
}
